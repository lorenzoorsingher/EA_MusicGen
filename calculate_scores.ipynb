{
 "cells": [
  {
   "cell_type": "code",
   "execution_count": 1,
   "metadata": {},
   "outputs": [
    {
     "name": "stdout",
     "output_type": "stream",
     "text": [
      "DEVICE:  cuda\n",
      "[MODEL] Using aggregation type: gating-tanh\n",
      "[MODEL] Using learnable temperature\n",
      "[MODEL] Using projection type: shared\n"
     ]
    },
    {
     "data": {
      "text/plain": [
       "AlignerV2Wrapper(\n",
       "  (gate): Linear(in_features=9984, out_features=9984, bias=True)\n",
       "  (gate_transform): Linear(in_features=768, out_features=768, bias=True)\n",
       "  (gate_norm): LayerNorm((768,), eps=1e-05, elementwise_affine=True)\n",
       "  (gate_out_norm): LayerNorm((768,), eps=1e-05, elementwise_affine=True)\n",
       "  (drop): Dropout(p=0.2, inplace=False)\n",
       "  (users): Embedding(967, 256)\n",
       "  (linear1): Linear(in_features=256, out_features=2048, bias=True)\n",
       "  (fc1): Linear(in_features=256, out_features=2048, bias=True)\n",
       "  (linear2): Linear(in_features=2048, out_features=768, bias=True)\n",
       "  (fc2): Linear(in_features=2048, out_features=768, bias=True)\n",
       "  (ln_usr): LayerNorm((768,), eps=1e-05, elementwise_affine=True)\n",
       "  (linear3): Linear(in_features=256, out_features=768, bias=True)\n",
       "  (f5): Linear(in_features=768, out_features=2048, bias=True)\n",
       "  (f6): Linear(in_features=2048, out_features=768, bias=True)\n",
       "  (ln2): LayerNorm((768,), eps=1e-05, elementwise_affine=True)\n",
       ")"
      ]
     },
     "execution_count": 1,
     "metadata": {},
     "output_type": "execute_result"
    }
   ],
   "source": [
    "import torch\n",
    "\n",
    "from usrapprox.usrapprox.models.aligner_v2 import AlignerV2Wrapper\n",
    "\n",
    "\n",
    "DEVICE = \"cuda\" if torch.cuda.is_available() else \"cpu\"  # use GPU if we can!\n",
    "print(\"DEVICE: \", DEVICE)\n",
    "alignerv2 = AlignerV2Wrapper(device=DEVICE)\n",
    "alignerv2.to(DEVICE)"
   ]
  },
  {
   "cell_type": "markdown",
   "metadata": {},
   "source": []
  },
  {
   "cell_type": "code",
   "execution_count": 2,
   "metadata": {},
   "outputs": [],
   "source": [
    "import json\n",
    "\n",
    "splits_path = \"usrembeds/data/splits.json\"\n",
    "embs_path = \"usrembeds/data/embeddings/embeddings_full_split\"\n",
    "\n",
    "with open(splits_path, \"r\") as f:\n",
    "    splits = json.load(f)"
   ]
  },
  {
   "cell_type": "code",
   "execution_count": 3,
   "metadata": {},
   "outputs": [
    {
     "data": {
      "text/plain": [
       "70834"
      ]
     },
     "execution_count": 3,
     "metadata": {},
     "output_type": "execute_result"
    }
   ],
   "source": [
    "len(splits[\"train\"])"
   ]
  },
  {
   "cell_type": "code",
   "execution_count": 13,
   "metadata": {},
   "outputs": [
    {
     "name": "stderr",
     "output_type": "stream",
     "text": [
      "100%|██████████| 277/277 [00:35<00:00,  7.91it/s]\n"
     ]
    }
   ],
   "source": [
    "import os\n",
    "from tqdm import tqdm\n",
    "\n",
    "\n",
    "class MyDataset(torch.utils.data.Dataset):\n",
    "    def __init__(self, nneg=20):\n",
    "        splits_path = \"usrembeds/data/splits.json\"\n",
    "        self.embs_path = \"usrembeds/data/embeddings/embeddings_full_split\"\n",
    "        self.nneg = nneg\n",
    "\n",
    "        with open(splits_path, \"r\") as f:\n",
    "            splits = json.load(f)\n",
    "        self.splits = splits[\"train\"]\n",
    "\n",
    "    def __getitem__(self, index):\n",
    "        items = []\n",
    "        for i in range(1 + self.nneg):\n",
    "            items.append(self.__get_embedding(index + i))\n",
    "\n",
    "        return torch.Tensor(items)\n",
    "\n",
    "    def __len__(self):\n",
    "        return len(self.splits) // (1 + self.nneg)\n",
    "\n",
    "    def __get_embedding(self, idx):\n",
    "        posset = self.splits[idx]\n",
    "        emb_file = os.path.join(self.embs_path, f\"{posset}.json\")\n",
    "        if os.path.isfile(emb_file):\n",
    "            try:\n",
    "                with open(emb_file, \"r\") as f:\n",
    "                    data = json.load(f)\n",
    "                    if posset in data:\n",
    "                        return data[posset][0]\n",
    "                    else:\n",
    "                        print(\"No embeddings for posset\")\n",
    "                        return [0.0]\n",
    "            except:\n",
    "                print(\"Error reading file\")\n",
    "                return [0.0]\n",
    "        else:\n",
    "            print(\"File does not exist\")\n",
    "            return [0.0]\n",
    "\n",
    "\n",
    "dataset = MyDataset(1)\n",
    "\n",
    "dataloader = torch.utils.data.DataLoader(\n",
    "    dataset, batch_size=128, shuffle=True, num_workers=10\n",
    ")\n",
    "\n",
    "device = torch.device(\"cuda\" if torch.cuda.is_available() else \"cpu\")\n",
    "\n",
    "# Ensure index tensor is on the same device\n",
    "\n",
    "# Move model and batch to the same device\n",
    "alignerv2 = alignerv2.to(device)\n",
    "\n",
    "for batch in tqdm(dataloader):\n",
    "    index = torch.LongTensor([1 for _ in range(batch.shape[0])]).to(device)\n",
    "    batch = batch.to(device)  # Ensure batch is on the same device\n",
    "    user_embedding, music_feedback = alignerv2(index, batch, True)"
   ]
  },
  {
   "cell_type": "code",
   "execution_count": 8,
   "metadata": {},
   "outputs": [
    {
     "name": "stderr",
     "output_type": "stream",
     "text": [
      "  0%|          | 0/1107 [00:00<?, ?it/s]\n"
     ]
    }
   ],
   "source": []
  },
  {
   "cell_type": "code",
   "execution_count": null,
   "metadata": {},
   "outputs": [],
   "source": []
  }
 ],
 "metadata": {
  "kernelspec": {
   "display_name": "ea",
   "language": "python",
   "name": "python3"
  },
  "language_info": {
   "codemirror_mode": {
    "name": "ipython",
    "version": 3
   },
   "file_extension": ".py",
   "mimetype": "text/x-python",
   "name": "python",
   "nbconvert_exporter": "python",
   "pygments_lexer": "ipython3",
   "version": "3.12.8"
  }
 },
 "nbformat": 4,
 "nbformat_minor": 2
}
